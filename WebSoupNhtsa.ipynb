{
  "nbformat": 4,
  "nbformat_minor": 0,
  "metadata": {
    "colab": {
      "name": "WebSoupNhtsa.ipynb",
      "version": "0.3.2",
      "provenance": [],
      "collapsed_sections": [],
      "include_colab_link": true
    },
    "kernelspec": {
      "name": "python3",
      "display_name": "Python 3"
    }
  },
  "cells": [
    {
      "cell_type": "markdown",
      "metadata": {
        "id": "view-in-github",
        "colab_type": "text"
      },
      "source": [
        "<a href=\"https://colab.research.google.com/github/dfbrownnz/HelloWorld/blob/master/WebSoupNhtsa.ipynb\" target=\"_parent\"><img src=\"https://colab.research.google.com/assets/colab-badge.svg\" alt=\"Open In Colab\"/></a>"
      ]
    },
    {
      "cell_type": "code",
      "metadata": {
        "id": "p5tmkI-X2Rpy",
        "colab_type": "code",
        "colab": {
          "base_uri": "https://localhost:8080/",
          "height": 88
        },
        "outputId": "c4e77014-1883-43aa-cea4-54b97600dd47"
      },
      "source": [
        "import bs4 as bs\n",
        "import urllib.request\n",
        "url = 'https://vpic.nhtsa.dot.gov/api/vehicles/DecodeVin/1M8TRMPA7YP061018?format=xml'\n",
        "url = 'https://vpic.nhtsa.dot.gov/api/vehicles/decodevinvalues/1M8TRMPA7YP061018?format=xml&modelyear=1998'\n",
        "url = 'https://vpic.nhtsa.dot.gov/api/vehicles/decodevinvalues/1M8TRMPA2WP060386?format=xml&modelyear=1998'\n",
        "url = 'https://vpic.nhtsa.dot.gov/api/vehicles/decodevinvalues/1M8TRMPA5W060186?format=xml&modelyear=1998'\n",
        "url = 'https://vpic.nhtsa.dot.gov/api/vehicles/decodevinvalues/1M8TRMPA5W060186?format=xml&modelyear=1998'\n",
        "\n",
        "#url = 'https://service.geico.com/insite/policyLandingPage.xhtml?CW6305D=203066&ts=1559310238356'\n",
        "#url = 'file:///C:/Users/dfb/Desktop/MyAutoInsurance/4553316821_Vehicles.html'\n",
        "#url = 'file:///C:/Users/dfb/Desktop/MyAutoInsurance/4553316821_Driver Summary.html'\n",
        "\n",
        "print(url)\n",
        "\n",
        "#source = urllib.request.urlopen(url).read()\n",
        "source = urllib.request.urlopen(url)\n",
        "soup = bs.BeautifulSoup(source,'lxml')\n",
        "\n",
        "#tags = ['model', 'modelyear', 'enginekw', 'vehicleid','manufacturer','gvwr','bodyclass','message','make','errorcode','bustype','otherbusinfo']\n",
        "#tags = ['VIN','Vehicle Purchase Date','list-column-one','list-column-two','Vehicle Summary']\n",
        "vehicle = {}\n",
        "#for tag in tags:\n",
        "#    vehicle[tag] = soup.find(tag) \n",
        "#print(vehicle)\n",
        "\n",
        "tags = ['fueltypeprimary','gvwr','make','manufacturer', 'model']\n",
        "for tag in tags:\n",
        "    vehicle[tag] = soup.find(tag)\n",
        "print(vehicle)\n",
        "\n",
        "#for tag in soup.findAll():\n",
        "#  if str(tag.name)=='manufacturer':\n",
        "#    print ( '\\n\\n' + str(tag.name) + '->' + str(tag.string))\n",
        "#  else:\n",
        "#    print (str(tag.name) + '->' + str(tag.string))\n",
        "\n",
        "    \n",
        "\n",
        "#Car\n",
        "car_attribute_name = soup.find_all(\"div\",{\"class\":\"list-column-one\"})\n",
        "car_attribute_value = soup.find_all(\"div\",{\"class\":\"list-column-two\"})\n",
        "\n",
        "print(car_attribute_value )\n",
        "\n",
        "#Drivers name\n",
        "#other = soup.find_all(\"h1\",{\"class\":\"card-headline\"})\n",
        "#print(other) \n",
        "\n",
        "dataset = [(x.text, y.text) for x,y in zip(car_attribute_name, car_attribute_value)]\n",
        "#print(dataset[1])\n",
        "#print(dataset)\n",
        "for pl, sc in zip(car_attribute_name, car_attribute_value): \n",
        "    print (\"%s:%s\" %(pl.text.strip(), sc.text.strip())) \n",
        "\n",
        "#file1 = open('C:/Users/dfb/Desktop/MyAutoInsurance/myfile.txt',\"w\") \n",
        "for pl, sc in zip(car_attribute_name, car_attribute_value): \n",
        "    print (\"%s:%s\" %(pl.text.strip(), sc.text.strip())) \n",
        "    #file1.write(\"%s|\" %(pl.text.strip())) \n",
        "\n",
        "#file1.write(\"\\n\")\n",
        "for pl, sc in zip(car_attribute_name, car_attribute_value): \n",
        "    print (\"%s:%s\" %(pl.text.strip(), sc.text.strip())) \n",
        "    #file1.write(\"%s|\" %(sc.text.strip())) \n",
        "#L = [\"This is Delhi \\n\",\"This is Paris \\n\",\"This is London \\n\"]  \n",
        "#file1.close() \n",
        "  \n",
        "#with open(\"output.csv\", \"w\", newline='') as csvfile:\n",
        "#    writer = csv.writer(csvfile)\n",
        "#    for data in dataset[:150]: #truncate to 150 rows\n",
        "#        writer.writerow(data)\n",
        "        "
      ],
      "execution_count": 12,
      "outputs": [
        {
          "output_type": "stream",
          "text": [
            "https://vpic.nhtsa.dot.gov/api/vehicles/decodevinvalues/1M8TRMPA5W060186?format=xml&modelyear=1998\n",
            "{'fueltypeprimary': <fueltypeprimary>Diesel</fueltypeprimary>, 'gvwr': <gvwr>Class 8: 33,001 lb and above (14,969 kg and above)</gvwr>, 'make': <make>MOTOR COACH INDUSTRIES</make>, 'manufacturer': <manufacturer>MOTOR COACH INDUSTRIES, INC.</manufacturer>, 'model': <model>102EL3 Intercity/E4500</model>}\n",
            "[]\n"
          ],
          "name": "stdout"
        }
      ]
    }
  ]
}